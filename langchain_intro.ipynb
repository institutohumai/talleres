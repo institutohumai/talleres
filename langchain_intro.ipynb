{
 "cells": [
  {
   "cell_type": "markdown",
   "metadata": {},
   "source": [
    "# Langchain 🦜🔗 - Intro - Datapeña\n",
    "Humai / 7Puentes\n",
    "\n",
    "Julián Peller [@dataista0](http://github.com/dataista0)"
   ]
  },
  {
   "cell_type": "markdown",
   "metadata": {},
   "source": [
    "## Instalar paquetes"
   ]
  },
  {
   "cell_type": "code",
   "execution_count": 1,
   "metadata": {},
   "outputs": [],
   "source": [
    "#!pip install langchain openai"
   ]
  },
  {
   "cell_type": "markdown",
   "metadata": {},
   "source": [
    "## Set-up API key\n",
    "\n",
    "<p style='color:red'> No dejar pública!! Usar un mecanismo mejor</p>"
   ]
  },
  {
   "cell_type": "code",
   "execution_count": 2,
   "metadata": {},
   "outputs": [],
   "source": [
    "import os\n",
    "os.environ['OPENAI_API_KEY'] = 'sk-...'"
   ]
  },
  {
   "cell_type": "code",
   "execution_count": 3,
   "metadata": {},
   "outputs": [
    {
     "data": {
      "text/plain": [
       "'0.0.218'"
      ]
     },
     "execution_count": 3,
     "metadata": {},
     "output_type": "execute_result"
    }
   ],
   "source": [
    "import langchain; langchain.__version__"
   ]
  },
  {
   "cell_type": "markdown",
   "metadata": {},
   "source": [
    "## Uso básico de un modelo"
   ]
  },
  {
   "cell_type": "code",
   "execution_count": 4,
   "metadata": {},
   "outputs": [],
   "source": [
    "from langchain.chat_models import ChatOpenAI\n",
    "\n",
    "llm = ChatOpenAI(temperature=0.7)"
   ]
  },
  {
   "cell_type": "code",
   "execution_count": 5,
   "metadata": {},
   "outputs": [
    {
     "data": {
      "text/plain": [
       "'¡Hola! ¿En qué puedo ayudarte hoy?'"
      ]
     },
     "execution_count": 5,
     "metadata": {},
     "output_type": "execute_result"
    }
   ],
   "source": [
    "llm.predict(\"Hola\")"
   ]
  },
  {
   "cell_type": "markdown",
   "metadata": {},
   "source": [
    "## Prompt Template\n"
   ]
  },
  {
   "cell_type": "code",
   "execution_count": 6,
   "metadata": {},
   "outputs": [
    {
     "name": "stdout",
     "output_type": "stream",
     "text": [
      "1. Nube Tóxica\n",
      "2. AgroNube Letal\n",
      "3. Contaminación Rosa\n",
      "4. Nube Nihilista\n",
      "5. Ganancia Tóxica\n"
     ]
    }
   ],
   "source": [
    "from langchain.prompts import PromptTemplate\n",
    "\n",
    "template = (\"Dame {cantidad} nombres en {idioma} para una empresa que fabrica {producto} \\\n",
    "y cuyos valores son {valores}?\")\n",
    "\n",
    "prompt = PromptTemplate.from_template(template)\n",
    "mensaje = prompt.format(cantidad=\"5\", \n",
    "                        idioma=\"castellano de Argentina\",\n",
    "                        producto=\"nubes rosas de agrotóxicos\",\n",
    "                        valores=\"Contaminación, Nihilismo y Ganancias\")\n",
    "\n",
    "print(llm.predict(mensaje))"
   ]
  },
  {
   "cell_type": "markdown",
   "metadata": {},
   "source": [
    "# Cadena (chain) básica: PromptTemplate + LLM"
   ]
  },
  {
   "cell_type": "code",
   "execution_count": 10,
   "metadata": {},
   "outputs": [],
   "source": [
    "from langchain.chains import LLMChain"
   ]
  },
  {
   "cell_type": "code",
   "execution_count": 13,
   "metadata": {},
   "outputs": [],
   "source": [
    "# Modelo\n",
    "llm = ChatOpenAI(temperature=0.9)\n",
    "\n",
    "# Prompt\n",
    "prompt = PromptTemplate.from_template(\"¿Qué 5 destinos prefiere la gente a la que le gusta comer {comida}?\")\n",
    "\n",
    "# Ambos juntos\n",
    "chain = LLMChain(llm=llm, prompt=prompt)"
   ]
  },
  {
   "cell_type": "code",
   "execution_count": 14,
   "metadata": {},
   "outputs": [
    {
     "name": "stdout",
     "output_type": "stream",
     "text": [
      "1. Argentina: Como los alfajores son una tradición muy arraigada en Argentina, mucha gente que adora estos dulces elige este país como destino para disfrutar de una amplia variedad de alfajores caseros y artesanales.\n",
      "\n",
      "2. España: Los alfajores también son muy populares en España, especialmente en la región de Andalucía. Muchos aficionados a los alfajores visitan España para probar las diferentes variedades de este dulce, como los alfajores de Medina Sidonia.\n",
      "\n",
      "3. Uruguay: Uruguay es otro país que tiene una tradición muy arraigada en la producción de alfajores. Aquí, los alfajores son tan populares que incluso tienen su día nacional, el \"Día del Alfajor Urugayo\". Muchos amantes de los alfajores visitan Uruguay para disfrutar de sus famosos alfajores de maicena.\n",
      "\n",
      "4. Chile: En Chile, los alfajores son también muy apreciados y existen diversas marcas y variedades de este dulce. Muchos aficionados a los alfajores viajan a Chile para probar los famosos alfajores de La Ligua, que son conocidos por su relleno de manjar.\n",
      "\n",
      "5. Perú: En Perú, los alfajores son considerados un dulce tradicional y son muy populares entre los locales y los turistas. Los alfajores peruanos son conocidos por su relleno de manjar blanco y muchos visitantes disfrutan de probar las diferentes variedades de alfajores que se encuentran en el país.\n"
     ]
    }
   ],
   "source": [
    "print(chain.run(\"alfajores\"))"
   ]
  },
  {
   "cell_type": "markdown",
   "metadata": {},
   "source": [
    "# Agentes"
   ]
  },
  {
   "cell_type": "code",
   "execution_count": 16,
   "metadata": {},
   "outputs": [],
   "source": [
    "#!pip install google-search-results"
   ]
  },
  {
   "cell_type": "code",
   "execution_count": 18,
   "metadata": {},
   "outputs": [],
   "source": [
    "from langchain.agents import load_tools, initialize_agent"
   ]
  },
  {
   "cell_type": "markdown",
   "metadata": {},
   "source": [
    "Ser papi es una API que permite hacer búsquedas web.\n",
    "\n",
    "Hacerse una cuenta es muy fácil (acá: [serpapi.com](https://serpapi.com/)) y te dan 100 créditos gratis que se recargan.\n",
    "\n",
    "De nuevo, ojo subir la API key a un entorno público! Mejor usar un environment local como `~/.bashrc` o la librería `python-dotenv`"
   ]
  },
  {
   "cell_type": "code",
   "execution_count": 21,
   "metadata": {},
   "outputs": [],
   "source": [
    "os.environ[\"SERPAPI_API_KEY\"] = \"...\""
   ]
  },
  {
   "cell_type": "code",
   "execution_count": 22,
   "metadata": {},
   "outputs": [],
   "source": [
    "# Modelo\n",
    "llm = ChatOpenAI(temperature=0.9)\n",
    "\n",
    "# Herramientas\n",
    "tools = load_tools([\"serpapi\", \"llm-math\"], llm=llm)\n",
    "\n",
    "# Agente\n",
    "agent = initialize_agent(tools, \n",
    "                         llm, \n",
    "                         agent=\"zero-shot-react-description\", \n",
    "                         verbose=True)"
   ]
  },
  {
   "cell_type": "code",
   "execution_count": 27,
   "metadata": {},
   "outputs": [
    {
     "name": "stdout",
     "output_type": "stream",
     "text": [
      "\n",
      "\n",
      "\u001b[1m> Entering new  chain...\u001b[0m\n",
      "\u001b[32;1m\u001b[1;3mI need to find out who the current president of Argentina is and calculate their age squared.\n",
      "Action: Search\n",
      "Action Input: \"current president of Argentina\"\u001b[0m\n",
      "Observation: \u001b[36;1m\u001b[1;3mAlberto Fernández\u001b[0m\n",
      "Thought:\u001b[32;1m\u001b[1;3mI now know the current president of Argentina. Now I need to find out his age and square it.\n",
      "Action: Search\n",
      "Action Input: \"Alberto Fernández age\"\u001b[0m\n",
      "Observation: \u001b[36;1m\u001b[1;3m64 years\u001b[0m\n",
      "Thought:\u001b[32;1m\u001b[1;3mI now know the age of Alberto Fernández. Now I need to calculate his age squared.\n",
      "Action: Calculator\n",
      "Action Input: 64^2\u001b[0m\n",
      "Observation: \u001b[33;1m\u001b[1;3mAnswer: 4096\u001b[0m\n",
      "Thought:\u001b[32;1m\u001b[1;3mI now know the final answer\n",
      "Final Answer: The current president of Argentina is Alberto Fernández and his age squared is 4096.\u001b[0m\n",
      "\n",
      "\u001b[1m> Finished chain.\u001b[0m\n"
     ]
    },
    {
     "data": {
      "text/plain": [
       "'The current president of Argentina is Alberto Fernández and his age squared is 4096.'"
      ]
     },
     "execution_count": 27,
     "metadata": {},
     "output_type": "execute_result"
    }
   ],
   "source": [
    "agent.run(\"¿Quién es el actual presidente de Argentina? ¿Cuánto es su edad elevada al cuadrado?\")"
   ]
  },
  {
   "cell_type": "code",
   "execution_count": null,
   "metadata": {},
   "outputs": [],
   "source": []
  }
 ],
 "metadata": {
  "kernelspec": {
   "display_name": "Python 3 (ipykernel)",
   "language": "python",
   "name": "python3"
  },
  "language_info": {
   "codemirror_mode": {
    "name": "ipython",
    "version": 3
   },
   "file_extension": ".py",
   "mimetype": "text/x-python",
   "name": "python",
   "nbconvert_exporter": "python",
   "pygments_lexer": "ipython3",
   "version": "3.8.13"
  }
 },
 "nbformat": 4,
 "nbformat_minor": 4
}
