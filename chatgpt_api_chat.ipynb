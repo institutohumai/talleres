{
 "cells": [
  {
   "cell_type": "markdown",
   "metadata": {
    "id": "1ed677d1"
   },
   "source": [
    "# ChatGPT con la API: Ejemplo chatbot mínimo"
   ]
  },
  {
   "cell_type": "markdown",
   "metadata": {
    "id": "d489e365"
   },
   "source": [
    "## Imports y configuración de la API key"
   ]
  },
  {
   "cell_type": "code",
   "execution_count": 3,
   "metadata": {
    "colab": {
     "base_uri": "https://localhost:8080/"
    },
    "id": "1209f6d9",
    "outputId": "403934df-2345-4e67-87a2-b3ed3e5a8456"
   },
   "outputs": [],
   "source": [
    "!pip install --upgrade openai --quiet\n",
    "import os\n",
    "from openai import OpenAI\n",
    "\n",
    "# Pegar acá la API key\n",
    "# Tomar de acá: https://platform.openai.com/account/api-keys\n",
    "# Cuidado, no dejar pública!!\n",
    "API_KEY = 'sk-...'"
   ]
  },
  {
   "cell_type": "markdown",
   "metadata": {
    "id": "39f084b4"
   },
   "source": [
    "## Clase para Chatbot multifunción\n",
    "\n",
    "Para los que quieran profundizar, [acá](https://platform.openai.com/docs/guides/chat/introduction) está la documentación."
   ]
  },
  {
   "cell_type": "code",
   "execution_count": 48,
   "metadata": {
    "id": "FPfkEiecgeVl"
   },
   "outputs": [],
   "source": [
    "class ChatBotGPT:\n",
    "    def __init__(self, rol):\n",
    "        self.rol = rol\n",
    "        self.mensajes = [{\"role\": \"system\", \"content\": rol}]\n",
    "        self.cliente = OpenAI(api_key=API_KEY)\n",
    "\n",
    "    def enviar_mensaje(self, mensaje):\n",
    "        self.mensajes.append({'role': 'user', 'content': mensaje})\n",
    "        resultado = self.cliente.chat.completions.create(model=\"gpt-3.5-turbo\", messages=self.mensajes)\n",
    "        mensaje_recibido = resultado.choices[0].message\n",
    "        self.mensajes.append({'role': mensaje_recibido.role, 'content': mensaje_recibido.content})\n",
    "        print(f\"Usuario: {mensaje}\")\n",
    "        print(f\"ChatGPT: {mensaje_recibido.content}\")\n",
    "\n",
    "    def mostrar_interaccion_completa(self):\n",
    "        for mensaje in self.mensajes:\n",
    "            if mensaje['role'] == 'system':\n",
    "                continue\n",
    "            msj = mensaje['content']\n",
    "            agente = 'Usuario' if mensaje['role'] == 'user' else 'ChatGPT'\n",
    "            print(f\"{agente}: {msj}\")\n",
    "\n",
    "\n",
    "\n"
   ]
  },
  {
   "cell_type": "markdown",
   "metadata": {
    "id": "8Mee_WHlhTeo"
   },
   "source": [
    "## Ejemplo: vendedor de productos Apple"
   ]
  },
  {
   "cell_type": "code",
   "execution_count": 49,
   "metadata": {
    "id": "2lj-gFf6gJwE"
   },
   "outputs": [],
   "source": [
    "productos_tecnologicos = [\n",
    "    {'producto': 'iPhone 6', 'lanzamiento': 2007, 'precio': 300},\n",
    "    {'producto': 'iPhone 14', 'lanzamiento': 2022, 'precio': 1200},\n",
    "    {'producto': 'iPhone 14 pro', 'lanzamiento': 2022, 'precio': 1300},\n",
    "    {'producto': 'iPad', 'lanzamiento': 2010, 'precio': 799},\n",
    "    {'producto': 'Apple Watch', 'lanzamiento': 2015, 'precio': 399},\n",
    "    {'producto': 'iMac', 'lanzamiento': 1998, 'precio': 1099},\n",
    "    {'producto': 'MacBook Pro', 'lanzamiento': 2006, 'precio': 1299}\n",
    "]\n",
    "\n",
    "\n",
    "rol_asistente = f\"\"\"Quiero que actues como un agente conversacional para mi negocio.\n",
    "Vendo productos tecnológicos y este es mi catálogo: {productos_tecnologicos}\"\"\"\n",
    "\n",
    "vendedor_apple = ChatBotGPT(rol_asistente)"
   ]
  },
  {
   "cell_type": "code",
   "execution_count": 50,
   "metadata": {
    "colab": {
     "base_uri": "https://localhost:8080/"
    },
    "id": "4MBxYyXrhPGS",
    "outputId": "5d61cba7-7a03-47bc-b335-82b7a2bc79b7"
   },
   "outputs": [
    {
     "name": "stdout",
     "output_type": "stream",
     "text": [
      "Usuario: Hola, qué tal? Quiero comprar un producto\n",
      "ChatGPT: ¡Hola! ¿En qué puedo ayudarte? ¿Qué producto te interesa comprar?\n"
     ]
    }
   ],
   "source": [
    "vendedor_apple.enviar_mensaje(\"Hola, qué tal? Quiero comprar un producto\")"
   ]
  },
  {
   "cell_type": "code",
   "execution_count": 51,
   "metadata": {
    "colab": {
     "base_uri": "https://localhost:8080/"
    },
    "id": "YaPw3SEnhbmL",
    "outputId": "dc5534f4-be1e-4e86-dd5d-5d0342db1c5d"
   },
   "outputs": [
    {
     "name": "stdout",
     "output_type": "stream",
     "text": [
      "Usuario: Quiero un iPhone\n",
      "ChatGPT: Perfecto, tenemos varios modelos de iPhones disponibles. ¿Estás buscando algún modelo en particular o tienes alguna preferencia de lanzamiento o precio en mente?\n"
     ]
    }
   ],
   "source": [
    "vendedor_apple.enviar_mensaje(\"Quiero un iPhone\")"
   ]
  },
  {
   "cell_type": "markdown",
   "metadata": {
    "id": "xqM3R76ViJAS"
   },
   "source": [
    "Acá se sale del libreto. Quizás podríamos mejorar el rol?"
   ]
  },
  {
   "cell_type": "code",
   "execution_count": 52,
   "metadata": {
    "colab": {
     "base_uri": "https://localhost:8080/"
    },
    "id": "jGF6531whvsi",
    "outputId": "183f6614-c489-4b59-cea8-86894f8f508e"
   },
   "outputs": [
    {
     "name": "stdout",
     "output_type": "stream",
     "text": [
      "Usuario: Dispongo de 500 dólares. Qué puedo comprar?\n",
      "ChatGPT: Con un presupuesto de 500 dólares, tienes varias opciones disponibles. Puedes adquirir un iPhone 6 por $300 o un iPhone 14 por $1200. Si estás interesado en los modelos más recientes, también puedes considerar el iPhone 14 Pro, que tiene un precio de $1300. ¿Te gustaría más información sobre alguno de estos modelos?\n"
     ]
    }
   ],
   "source": [
    "vendedor_apple.enviar_mensaje(\"Dispongo de 500 dólares. Qué puedo comprar?\")"
   ]
  },
  {
   "cell_type": "code",
   "execution_count": 53,
   "metadata": {
    "colab": {
     "base_uri": "https://localhost:8080/"
    },
    "id": "wdW3z-_viQkk",
    "outputId": "8c3ca086-0136-4f7f-a1e7-fbc26f9d5d40"
   },
   "outputs": [
    {
     "name": "stdout",
     "output_type": "stream",
     "text": [
      "Usuario: Entiendo. Dejame pensarlo. Mientras tanto, quién ganó el mundial de futbol de 1986?\n",
      "ChatGPT: El ganador del Mundial de Fútbol de 1986 fue la selección nacional de Argentina. Fue un torneo muy destacado para Argentina, donde su capitán Diego Maradona tuvo una destacada actuación.\n"
     ]
    }
   ],
   "source": [
    "vendedor_apple.enviar_mensaje(\"Entiendo. Dejame pensarlo. Mientras tanto, quién ganó el mundial de futbol de 1986?\")"
   ]
  },
  {
   "cell_type": "code",
   "execution_count": 54,
   "metadata": {
    "colab": {
     "base_uri": "https://localhost:8080/"
    },
    "id": "RLiPLqA4h9bE",
    "outputId": "51d093a2-a3fc-4740-9e51-a54198ae19c3"
   },
   "outputs": [
    {
     "name": "stdout",
     "output_type": "stream",
     "text": [
      "Usuario: Hola, qué tal? Quiero comprar un producto\n",
      "ChatGPT: ¡Hola! ¿En qué puedo ayudarte? ¿Qué producto te interesa comprar?\n",
      "Usuario: Quiero un iPhone\n",
      "ChatGPT: Perfecto, tenemos varios modelos de iPhones disponibles. ¿Estás buscando algún modelo en particular o tienes alguna preferencia de lanzamiento o precio en mente?\n",
      "Usuario: Dispongo de 500 dólares. Qué puedo comprar?\n",
      "ChatGPT: Con un presupuesto de 500 dólares, tienes varias opciones disponibles. Puedes adquirir un iPhone 6 por $300 o un iPhone 14 por $1200. Si estás interesado en los modelos más recientes, también puedes considerar el iPhone 14 Pro, que tiene un precio de $1300. ¿Te gustaría más información sobre alguno de estos modelos?\n",
      "Usuario: Entiendo. Dejame pensarlo. Mientras tanto, quién ganó el mundial de futbol de 1986?\n",
      "ChatGPT: El ganador del Mundial de Fútbol de 1986 fue la selección nacional de Argentina. Fue un torneo muy destacado para Argentina, donde su capitán Diego Maradona tuvo una destacada actuación.\n"
     ]
    }
   ],
   "source": [
    "vendedor_apple.mostrar_interaccion_completa()\n"
   ]
  },
  {
   "cell_type": "code",
   "execution_count": 59,
   "metadata": {
    "id": "gGodE6gTitee"
   },
   "outputs": [],
   "source": [
    "def get_completion_from_messages(messages):\n",
    "    cliente = OpenAI(api_key=API_KEY)\n",
    "    response = cliente.chat.completions.create(\n",
    "        model=\"gpt-3.5-turbo\",\n",
    "        messages=messages,\n",
    "        temperature=0\n",
    "    )\n",
    "    return response.choices[0].message.content\n",
    "\n",
    "def collect_messages(_):\n",
    "    prompt = inp.value_input\n",
    "    inp.value = ''\n",
    "    context.append({'role':'user', 'content':f\"{prompt}\"})\n",
    "    response = get_completion_from_messages(context)\n",
    "    context.append({'role':'assistant', 'content':f\"{response}\"})\n",
    "    panels.append(\n",
    "        pn.Row('Usuario:', pn.pane.Markdown(prompt, width=600)))\n",
    "    panels.append(\n",
    "        pn.Row('Asistente:', pn.pane.Markdown(response, width=600, style={'background-color': '#F6F6F6'})))\n",
    "\n",
    "    return pn.Column(*panels)\n"
   ]
  },
  {
   "cell_type": "code",
   "execution_count": null,
   "metadata": {},
   "outputs": [],
   "source": [
    "import panel as pn  # GUI\n",
    "pn.extension()\n",
    "\n",
    "panels = [] # collect display\n",
    "\n",
    "context = [ {'role':'system', 'content' : rol_asistente} ]  # context va a ir acumulando los mensajes\n",
    "\n",
    "\n",
    "inp = pn.widgets.TextInput(value=\"Hi\", placeholder='Enter text here…')\n",
    "button_conversation = pn.widgets.Button(name=\"Chat!\")\n",
    "\n",
    "interactive_conversation = pn.bind(collect_messages, button_conversation)\n",
    "\n",
    "dashboard = pn.Column(\n",
    "    inp,\n",
    "    pn.Row(button_conversation),\n",
    "    pn.panel(interactive_conversation, loading_indicator=True, height=300),\n",
    ")\n",
    "\n",
    "dashboard"
   ]
  }
 ],
 "metadata": {
  "colab": {
   "provenance": []
  },
  "kernelspec": {
   "display_name": "Python 3",
   "language": "python",
   "name": "python3"
  },
  "language_info": {
   "codemirror_mode": {
    "name": "ipython",
    "version": 3
   },
   "file_extension": ".py",
   "mimetype": "text/x-python",
   "name": "python",
   "nbconvert_exporter": "python",
   "pygments_lexer": "ipython3",
   "version": "3.7.6"
  }
 },
 "nbformat": 4,
 "nbformat_minor": 5
}
