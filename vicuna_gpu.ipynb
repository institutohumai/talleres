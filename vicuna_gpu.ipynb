{
  "nbformat": 4,
  "nbformat_minor": 0,
  "metadata": {
    "colab": {
      "provenance": []
    },
    "kernelspec": {
      "name": "python3",
      "display_name": "Python 3"
    },
    "language_info": {
      "name": "python"
    },
    "accelerator": "GPU",
    "gpuClass": "standard"
  },
  "cells": [
    {
      "cell_type": "code",
      "source": [
        "!git clone https://github.com/oobabooga/text-generation-webui.git\n",
        "%cd text-generation-webui\n",
        "!pip install -r requirements.txt"
      ],
      "metadata": {
        "id": "LR0nHHYC0wy1"
      },
      "execution_count": null,
      "outputs": []
    },
    {
      "cell_type": "code",
      "source": [
        "!mkdir repositories\n",
        "%cd repositories\n",
        "!git clone https://github.com/oobabooga/GPTQ-for-LLaMa.git -b cuda\n",
        "%cd GPTQ-for-LLaMa\n",
        "!python setup_cuda.py install"
      ],
      "metadata": {
        "id": "oHnyhgPr8qDF"
      },
      "execution_count": null,
      "outputs": []
    },
    {
      "cell_type": "code",
      "source": [
        "%cd ../..\n",
        "!python download-model.py anon8231489123/vicuna-13b-GPTQ-4bit-128g"
      ],
      "metadata": {
        "id": "lsoYu8F6-6VF"
      },
      "execution_count": null,
      "outputs": []
    },
    {
      "cell_type": "code",
      "source": [
        "!python server.py --chat --model anon8231489123_vicuna-13b-GPTQ-4bit-128g --model_type LLaMA --wbits 4 --groupsize 128 --share"
      ],
      "metadata": {
        "id": "8yMsiyKK7sgd"
      },
      "execution_count": null,
      "outputs": []
    }
  ]
}