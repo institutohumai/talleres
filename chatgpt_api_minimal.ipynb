{
 "cells": [
  {
   "cell_type": "markdown",
   "metadata": {
    "id": "1ed677d1"
   },
   "source": [
    "# ChatGPT con la API: Ejemplo mínimo"
   ]
  },
  {
   "cell_type": "markdown",
   "metadata": {
    "id": "d489e365"
   },
   "source": [
    "## Imports y configuración de la API key"
   ]
  },
  {
   "cell_type": "code",
   "execution_count": 1,
   "metadata": {
    "id": "1209f6d9"
   },
   "outputs": [],
   "source": [
    "!pip install --upgrade openai --quiet\n",
    "import os\n",
    "from openai import OpenAI\n",
    "\n",
    "# Pegar acá la API key\n",
    "# Tomar de acá: https://platform.openai.com/account/api-keys\n",
    "# Cuidado, no dejar pública!!\n",
    "API_KEY = 'sk-...'"
   ]
  },
  {
   "cell_type": "markdown",
   "metadata": {
    "id": "39f084b4"
   },
   "source": [
    "## Función de completado\n",
    "\n",
    "(Tomada del curso de [deeplearning.ai](https://learn.deeplearning.ai/chatgpt-prompt-eng/))\n",
    "\n",
    "Para los que quieran profundizar, [acá](https://platform.openai.com/docs/guides/chat/introduction) está la documentación."
   ]
  },
  {
   "cell_type": "code",
   "execution_count": 10,
   "metadata": {
    "id": "d849520b"
   },
   "outputs": [],
   "source": [
    "def get_completion(prompt, model=\"gpt-3.5-turbo-0613\",temperature=0):\n",
    "    client = OpenAI(api_key=API_KEY)\n",
    "\n",
    "    messages = [{\"role\": \"user\", \"content\": prompt}]\n",
    "\n",
    "    response = client.chat.completions.create(\n",
    "        model=model,\n",
    "        messages=messages,\n",
    "        temperature=temperature, # grado de aleatoriedad\n",
    "    )\n",
    "    return response.choices[0].message.content"
   ]
  },
  {
   "cell_type": "markdown",
   "metadata": {
    "id": "cc353f28"
   },
   "source": [
    "## Llamando a la API"
   ]
  },
  {
   "cell_type": "code",
   "execution_count": 11,
   "metadata": {
    "id": "lMywKhRRJ_xE"
   },
   "outputs": [],
   "source": [
    "lamp_review = \"\"\"\n",
    "Necesitaba una lámpara bonita para mi habitación, y esta tenía \\\n",
    "almacenamiento adicional y no un precio demasiado alto. \\\n",
    "La recibí rápidamente. La cuerda de nuestra lámpara se rompió durante el \\\n",
    "tránsito y la compañía amablemente envió una nueva. \\\n",
    "Llegó también en pocos días. Fue fácil de armar. \\\n",
    "Tenía una pieza faltante, así que contacté a su \\\n",
    "soporte y muy rápidamente me enviaron la pieza que faltaba! \\\n",
    "¡Lumina me parece una gran empresa que se preocupa \\\n",
    "por sus clientes y productos!!\n",
    "\"\"\"\n"
   ]
  },
  {
   "cell_type": "code",
   "execution_count": 12,
   "metadata": {
    "colab": {
     "base_uri": "https://localhost:8080/"
    },
    "id": "0d58f7de",
    "outputId": "59201331-a823-4ad3-ff6a-7e368fbf9ca7"
   },
   "outputs": [
    {
     "name": "stdout",
     "output_type": "stream",
     "text": [
      "{\n",
      "  \"Sentimiento\": \"positivo\",\n",
      "  \"Ira\": false,\n",
      "  \"Artículo\": \"lámpara\",\n",
      "  \"Marca\": \"Lumina\"\n",
      "}\n"
     ]
    }
   ],
   "source": [
    "prompt = f\"\"\"\n",
    "Identifica los siguientes elementos del texto de la reseña:\n",
    "- Sentimiento (positivo o negativo)\n",
    "- ¿El revisor está expresando ira? (verdadero o falso)\n",
    "- Artículo comprado por el revisor\n",
    "- Compañía que fabricó el artículo\n",
    "\n",
    "La reseña está delimitada con comillas triples invertidas. \\\n",
    "Formatea tu respuesta como un objeto JSON con \\\n",
    "\"Sentimiento\", \"Ira\", \"Artículo\" y \"Marca\" como las claves.\n",
    "Si la información no está presente, usa \"desconocido\" \\\n",
    "como el valor.\n",
    "Haz tu respuesta lo más corta posible.\n",
    "Formatea el valor de Ira como un booleano.\n",
    "\n",
    "Texto de la reseña: '''{lamp_review}'''\n",
    "\"\"\"\n",
    "response = get_completion(prompt)\n",
    "print(response)\n"
   ]
  },
  {
   "cell_type": "code",
   "execution_count": null,
   "metadata": {
    "id": "mTHMP6EN7IpP"
   },
   "outputs": [],
   "source": []
  }
 ],
 "metadata": {
  "colab": {
   "provenance": []
  },
  "kernelspec": {
   "display_name": "Python 3",
   "language": "python",
   "name": "python3"
  },
  "language_info": {
   "codemirror_mode": {
    "name": "ipython",
    "version": 3
   },
   "file_extension": ".py",
   "mimetype": "text/x-python",
   "name": "python",
   "nbconvert_exporter": "python",
   "pygments_lexer": "ipython3",
   "version": "3.7.6"
  }
 },
 "nbformat": 4,
 "nbformat_minor": 5
}
